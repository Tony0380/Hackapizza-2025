{
 "cells": [
  {
   "metadata": {},
   "cell_type": "markdown",
   "source": "# RAG: Retrieval-Augmented Generation\n",
   "id": "c30e5eb98863b7c5"
  },
  {
   "metadata": {},
   "cell_type": "markdown",
   "source": [
    "# Caricamento di documenti PDF\n",
    "\n",
    "## Funzionamento:\n",
    "1. Si importa la funzione `load_pdfs_recursively` dal modulo `document_loaders` di LangChain.\n",
    "2. Si definisce la cartella contenente i documenti PDF.\n",
    "3. Si invoca la funzione `load_pdfs_recursively` passando il percorso della cartella come argomento.\n",
    "4. La funzione carica ricorsivamente tutti i file PDF da quella cartella e dalle sue sottocartelle.\n",
    "5. I documenti vengono restituiti come una lista di oggetti `Document`."
   ],
   "id": "be0b087a65e6d466"
  },
  {
   "cell_type": "code",
   "id": "initial_id",
   "metadata": {
    "collapsed": true
   },
   "source": [
    "import os\n",
    "from langchain.document_loaders import PyMuPDFLoader\n",
    "\n",
    "def load_pdfs_recursively(folder_path):\n",
    "    \"\"\"\n",
    "    Carica ricorsivamente tutti i file PDF da una cartella e dalle sue sottocartelle.\n",
    "\n",
    "    :param folder_path: Percorso della cartella principale.\n",
    "    :return: Lista di documenti caricati.\n",
    "    \"\"\"\n",
    "    documents = []\n",
    "\n",
    "    # Scansiona la cartella e sottocartelle\n",
    "    for root, _, files in os.walk(folder_path):\n",
    "        for filename in files:\n",
    "            print(f\"📁 Scansionando: {root}\")\n",
    "            if filename.endswith(\".pdf\"):\n",
    "                file_path = os.path.join(root, filename)\n",
    "                print(f\"📄 Caricando: {file_path}\")\n",
    "\n",
    "                # Carica il PDF\n",
    "                loader = PyMuPDFLoader(file_path)\n",
    "                documents.extend(loader.load())  # Aggiunge i documenti alla lista\n",
    "\n",
    "    print(f\"✅ Caricati {len(documents)} documenti da {folder_path}\")\n",
    "    return documents\n",
    "\n",
    "dataset_path = \"../HackapizzaDataset/\"\n",
    "all_pdfs = load_pdfs_recursively(dataset_path)\n"
   ],
   "outputs": [],
   "execution_count": null
  },
  {
   "metadata": {},
   "cell_type": "markdown",
   "source": [
    "# Caricamento di documenti HTML\n",
    "\n",
    "##Funzionamento:\n",
    "1. Si importa la funzione `load_htmls_recursively` dal modulo `document_loaders` di LangChain.\n",
    "2. Si definisce la cartella contenente i documenti HTML.\n",
    "3. Si invoca la funzione `load_htmls_recursively` passando il percorso della cartella come argomento.\n",
    "4. La funzione carica ricorsivamente tutti i file HTML da quella cartella e dalle sue sottocartelle.\n",
    "5. I documenti vengono restituiti come una lista di oggetti `Document`."
   ],
   "id": "1fc6bf6736d3273c"
  },
  {
   "metadata": {},
   "cell_type": "code",
   "source": [
    "import os\n",
    "from langchain.document_loaders import BSHTMLLoader\n",
    "\n",
    "def load_htmls_recursively(folder_path):\n",
    "    \"\"\"\n",
    "    Carica ricorsivamente tutti i file HTML da una cartella e dalle sue sottocartelle.\n",
    "    \"\"\"\n",
    "    documents = []\n",
    "\n",
    "    for root, _, files in os.walk(folder_path):\n",
    "        for filename in files:\n",
    "            if filename.lower().endswith((\".html\", \".htm\")):\n",
    "                file_path = os.path.join(root, filename)\n",
    "                print(f\"🌍 Caricando: {file_path}\")\n",
    "\n",
    "                try:\n",
    "                    # Forza l'uso di html.parser se lxml non funziona\n",
    "                    loader = BSHTMLLoader(file_path, bs_kwargs={\"features\": \"html.parser\"})\n",
    "                    documents.extend(loader.load())\n",
    "                except Exception as e:\n",
    "                    print(f\"⚠️ Errore con {file_path}: {e}\")\n",
    "\n",
    "    print(f\"✅ Caricati {len(documents)} documenti HTML da {folder_path}\")\n",
    "    return documents\n",
    "\n",
    "dataset_path = \"../HackapizzaDataset/\"\n",
    "all_htmls = load_htmls_recursively(dataset_path)"
   ],
   "id": "e11864cf1ba12678",
   "outputs": [],
   "execution_count": null
  },
  {
   "metadata": {},
   "cell_type": "markdown",
   "source": [
    "# Unione di documenti PDF e HTML\n",
    "\n"
   ],
   "id": "41f233a8f14a30fa"
  },
  {
   "metadata": {},
   "cell_type": "code",
   "outputs": [],
   "execution_count": null,
   "source": [
    "def loadDocuments(folder_path):\n",
    "    documents = load_htmls_recursively(folder_path).extend(load_pdfs_recursively(folder_path))\n",
    "    return documents"
   ],
   "id": "bdfebc495a33699e"
  }
 ],
 "metadata": {
  "kernelspec": {
   "display_name": "Python 3",
   "language": "python",
   "name": "python3"
  },
  "language_info": {
   "codemirror_mode": {
    "name": "ipython",
    "version": 2
   },
   "file_extension": ".py",
   "mimetype": "text/x-python",
   "name": "python",
   "nbconvert_exporter": "python",
   "pygments_lexer": "ipython2",
   "version": "2.7.6"
  }
 },
 "nbformat": 4,
 "nbformat_minor": 5
}
