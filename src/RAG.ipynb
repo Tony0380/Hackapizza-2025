{
 "cells": [
  {
   "metadata": {},
   "cell_type": "markdown",
   "source": "# RAG: Retrieval-Augmented Generation\n",
   "id": "c30e5eb98863b7c5"
  },
  {
   "metadata": {},
   "cell_type": "markdown",
   "source": [
    "# Caricamento di documenti PDF\n",
    "\n",
    "## Funzionamento:\n",
    "1. Si importa la funzione `load_pdfs_recursively` dal modulo `document_loaders` di LangChain.\n",
    "2. Si definisce la cartella contenente i documenti PDF.\n",
    "3. Si invoca la funzione `load_pdfs_recursively` passando il percorso della cartella come argomento.\n",
    "4. La funzione carica ricorsivamente tutti i file PDF da quella cartella e dalle sue sottocartelle.\n",
    "5. I documenti vengono restituiti come una lista di oggetti `Document`."
   ],
   "id": "be0b087a65e6d466"
  },
  {
   "cell_type": "code",
   "id": "initial_id",
   "metadata": {
    "collapsed": true
   },
   "source": [
    "import os\n",
    "from langchain.document_loaders import PyMuPDFLoader\n",
    "\n",
    "def load_pdfs_recursively(folder_path):\n",
    "    \"\"\"\n",
    "    Carica ricorsivamente tutti i file PDF da una cartella e dalle sue sottocartelle.\n",
    "\n",
    "    :param folder_path: Percorso della cartella principale.\n",
    "    :return: Lista di documenti caricati.\n",
    "    \"\"\"\n",
    "    documents = []\n",
    "\n",
    "    # Scansiona la cartella e sottocartelle\n",
    "    for root, _, files in os.walk(folder_path):\n",
    "        for filename in files:\n",
    "            print(f\"📁 Scansionando: {root}\")\n",
    "            if filename.endswith(\".pdf\"):\n",
    "                file_path = os.path.join(root, filename)\n",
    "                print(f\"📄 Caricando: {file_path}\")\n",
    "\n",
    "                # Carica il PDF\n",
    "                loader = PyMuPDFLoader(file_path)\n",
    "                documents.extend(loader.load())  # Aggiunge i documenti alla lista\n",
    "\n",
    "    print(f\"✅ Caricati {len(documents)} documenti da {folder_path}\")\n",
    "    return documents\n",
    "\n",
    "dataset_path = \"../HackapizzaDataset/\"\n",
    "all_pdfs = load_pdfs_recursively(dataset_path)\n"
   ],
   "outputs": [],
   "execution_count": null
  },
  {
   "metadata": {},
   "cell_type": "markdown",
   "source": [
    "# Caricamento di documenti HTML\n",
    "\n",
    "## Funzionamento:\n",
    "1. Si importa la funzione `load_htmls_recursively` dal modulo `document_loaders` di LangChain.\n",
    "2. Si definisce la cartella contenente i documenti HTML.\n",
    "3. Si invoca la funzione `load_htmls_recursively` passando il percorso della cartella come argomento.\n",
    "4. La funzione carica ricorsivamente tutti i file HTML da quella cartella e dalle sue sottocartelle.\n",
    "5. I documenti vengono restituiti come una lista di oggetti `Document`."
   ],
   "id": "1fc6bf6736d3273c"
  },
  {
   "metadata": {
    "ExecuteTime": {
     "end_time": "2025-02-19T15:52:23.337793Z",
     "start_time": "2025-02-19T15:52:23.321685Z"
    }
   },
   "cell_type": "code",
   "source": [
    "import os\n",
    "from langchain.document_loaders import BSHTMLLoader\n",
    "\n",
    "def load_htmls_recursively(folder_path):\n",
    "    \"\"\"\n",
    "    Carica ricorsivamente tutti i file HTML da una cartella e dalle sue sottocartelle.\n",
    "    \"\"\"\n",
    "    documents = []\n",
    "\n",
    "    for root, _, files in os.walk(folder_path):\n",
    "        for filename in files:\n",
    "            if filename.lower().endswith((\".html\", \".htm\")):\n",
    "                file_path = os.path.join(root, filename)\n",
    "                print(f\"🌍 Caricando: {file_path}\")\n",
    "\n",
    "                try:\n",
    "                    # Forza l'uso di html.parser se lxml non funziona\n",
    "                    loader = BSHTMLLoader(file_path, bs_kwargs={\"features\": \"html.parser\"})\n",
    "                    documents.extend(loader.load())\n",
    "                except Exception as e:\n",
    "                    print(f\"⚠️ Errore con {file_path}: {e}\")\n",
    "\n",
    "    print(f\"✅ Caricati {len(documents)} documenti HTML da {folder_path}\")\n",
    "    return documents\n",
    "\n",
    "dataset_path = \"../HackapizzaDataset/\"\n",
    "all_htmls = load_htmls_recursively(dataset_path)"
   ],
   "id": "e11864cf1ba12678",
   "outputs": [
    {
     "name": "stdout",
     "output_type": "stream",
     "text": [
      "🌍 Caricando: ../HackapizzaDataset/Blogpost/blog_sapore_del_dune.html\n",
      "🌍 Caricando: ../HackapizzaDataset/Blogpost/blog_etere_del_gusto.html\n",
      "✅ Caricati 2 documenti HTML da ../HackapizzaDataset/\n"
     ]
    }
   ],
   "execution_count": 50
  },
  {
   "metadata": {},
   "cell_type": "markdown",
   "source": [
    "# Unione di documenti PDF e HTML\n",
    "\n"
   ],
   "id": "41f233a8f14a30fa"
  },
  {
   "metadata": {},
   "cell_type": "code",
   "source": [
    "def loadDocuments(folder_path):\n",
    "    documents = load_htmls_recursively(folder_path)\n",
    "    documents.extend(load_pdfs_recursively(folder_path))\n",
    "    return documents\n",
    "\n",
    "documents = loadDocuments(\"../HackapizzaDataset/\")\n",
    "print(f\"📄 Documenti caricati: {documents}\")  # Debug"
   ],
   "id": "bdfebc495a33699e",
   "outputs": [],
   "execution_count": null
  },
  {
   "metadata": {},
   "cell_type": "markdown",
   "source": [
    "# Chunking di documenti\n",
    "\n",
    "## Funzionamento:\n",
    "Chuking a dimensione fissa di documenti."
   ],
   "id": "2347b52026d7dd13"
  },
  {
   "metadata": {},
   "cell_type": "code",
   "source": [
    "from langchain.text_splitter import RecursiveCharacterTextSplitter\n",
    "\n",
    "documents = loadDocuments(\"../HackapizzaDataset/\")\n",
    "\n",
    "text_splitter = RecursiveCharacterTextSplitter(chunk_size=500, chunk_overlap=50)\n",
    "chunks = text_splitter.split_documents(documents)\n"
   ],
   "id": "44fc61076ba8f7db",
   "outputs": [],
   "execution_count": null
  },
  {
   "metadata": {},
   "cell_type": "markdown",
   "source": [
    "# Embedding di chunk\n",
    "\n",
    "## Funzionamento:\n",
    "Embedding di chunk di testo utilizzando un modello preaddestrato."
   ],
   "id": "3e1e1b0968fabfb9"
  },
  {
   "metadata": {
    "ExecuteTime": {
     "end_time": "2025-02-19T15:47:36.616832Z",
     "start_time": "2025-02-19T15:47:33.640396Z"
    }
   },
   "cell_type": "code",
   "source": [
    "from langchain_community.embeddings import HuggingFaceEmbeddings\n",
    "\n",
    "# Inizializza il modello di embedding\n",
    "embedding_model = HuggingFaceEmbeddings(model_name=\"sentence-transformers/all-MiniLM-L6-v2\")\n",
    "\n",
    "# Genera gli embedding per i chunk di testo\n",
    "chunk_embeddings = embedding_model.embed_documents([chunk.page_content for chunk in chunks])"
   ],
   "id": "753384bcd63c7a47",
   "outputs": [],
   "execution_count": 47
  },
  {
   "metadata": {},
   "cell_type": "markdown",
   "source": [
    "# Indicizzamento di chuck in un vettore store\n",
    "\n",
    "## FAISS"
   ],
   "id": "d4395d3116111aae"
  },
  {
   "metadata": {
    "ExecuteTime": {
     "end_time": "2025-02-19T15:51:05.642349Z",
     "start_time": "2025-02-19T15:51:03.961107Z"
    }
   },
   "cell_type": "code",
   "source": [
    "from langchain.vectorstores import FAISS\n",
    "\n",
    "# Inizializza FAISS con gli embedding e i metadati dei chunk\n",
    "vectorstore = FAISS.from_texts(\n",
    "    texts=[chunk.page_content for chunk in chunks],\n",
    "    embedding=embedding_model\n",
    ")"
   ],
   "id": "78be4d36c03e210c",
   "outputs": [],
   "execution_count": 48
  },
  {
   "metadata": {},
   "cell_type": "markdown",
   "source": [
    "# Motore di ricerca\n",
    "\n"
   ],
   "id": "e207f49f01890cb9"
  },
  {
   "metadata": {
    "ExecuteTime": {
     "end_time": "2025-02-19T15:55:51.460944Z",
     "start_time": "2025-02-19T15:55:51.404436Z"
    }
   },
   "cell_type": "code",
   "source": [
    "query = \"Vorrei assaggiare l'Erba Pipa. In quali piatti la posso trovare?\"\n",
    "results = vectorstore.similarity_search(query, k=10)  # Trova i 5 documenti più simili\n",
    "\n",
    "# Stampa i risultati\n",
    "for i, doc in enumerate(results):\n",
    "    print(f\"🔹 Risultato {i+1}: {doc.page_content[:500]}...\\n\")\n"
   ],
   "id": "9260998036e8202f",
   "outputs": [
    {
     "name": "stdout",
     "output_type": "stream",
     "text": [
      "🔹 Risultato 1: senza pericolo. Questa base è attraversata dalla Marinatura Psionica, affinata sotto l'attenta supervisione\n",
      "del Maestro Stellaris, garantendo un'esperienza unica e personalizzata ad ogni assaggio.\n",
      "La Farina di Nettuno trasforma questo piatto in una sinfonia di leggerezza, dove il pane accompagna il\n",
      "tutto, perfettamente cotto e con un sentore blu cangiante. Gli Gnocchi del Crepuscolo, saggiamente...\n",
      "\n",
      "🔹 Risultato 2: Svantaggi: richiede comprensione avanzata dei legami proteici per ottimizzare efficacemente i campi\n",
      "risonanti senza danno strutturale....\n",
      "\n",
      "🔹 Risultato 3: del gusto lo ha guidato verso la scoperta di notevoli poteri psionici, permettendogli di intrecciare la trama\n",
      "della realtà attorno ai suoi piatti. Grazie a questa capacità, egli percepisce i sapori attraverso le menti dei\n",
      "suoi commensali e crea esperienze gustative che trascendono i limiti dell'immaginazione.\n",
      "Il suo viaggio lo ha condotto nei deserti scintillanti di Arrakis, dove ha appreso l'arte di manipolare le sabbie...\n",
      "\n",
      "🔹 Risultato 4: Questa rivelazione lo ha portato a sviluppare una tecnica epocale: la capacità di mantenere ciascun piatto in\n",
      "otto stati quantici simultanei (grazie alla licenza Quantistica Livello 8). Immaginate di assaporare un cinghiale\n",
      "che esiste in otto versioni perfette nel medesimo momento, ognuna dei quali risuona con i desideri più\n",
      "profondi di chi lo gusta. Non è magia, ma l’esito di anni di studio e ardenti esplorazioni....\n",
      "\n",
      "🔹 Risultato 5: di Unicorno. Questo elisir dolce e trascendentale infonde l'intera composizione di una luce nuova,\n",
      "ancorandola sulla linea sottile che separa il ricordo dalla meraviglia.\n",
      "Rapsodia Quantistica nel Cosmo è più che un piatto; è un invito a varcare le soglie dell'impossibile nella\n",
      "dimensione incantata della haute cuisine.\n",
      "Galassia di Sapore Quantum\n",
      "Benvenuti in un viaggio culinario che trascende i confini dell'immaginazione e del gusto. Il nostro piatto...\n",
      "\n",
      "🔹 Risultato 6: terroso che completa la ricchezza del piatto. Nel piatto orbitano gocce di una salsa unica, dove la Polvere di\n",
      "Pulsar si mescola magistralmente con il Sale Temporale, conferendo un sapore effervescente e nostalgico\n",
      "che danza sulla lingua.\n",
      "Il tutto viene avvolto da una soffice nuvola di Pane di Luce, impastata utilizzando la tecnica gravitazionale\n",
      "che le conferisce una leggerezza e un’ariosità quasi eterea. Alla base, un letto di Foglie di Mandragora offre...\n",
      "\n",
      "🔹 Risultato 7: tempo. Nel cuore di questo piatto risiede la Carne di Balena Spaziale, marinata con maestria\n",
      "attraverso la Marinatura Psionica, dove ogni fibra viene infusa con fragranze mentali uniche\n",
      "dall'aria rarefatta di nebulose remote. Accanto, una sottile fetta di Pane di Luce brilla\n",
      "delicatamente, cotta con i raggi di stelle lontane e pronta a raccogliere le sfumature complesse\n",
      "del piatto.\n",
      "Su uno spesso letto di Granuli di Nebbia Arcobaleno, che danzano allegramente, una...\n",
      "\n",
      "🔹 Risultato 8: che danza sul piatto, riflettendo un arcobaleno cosmico.\n",
      "Il piatto è ulteriormente impreziosito da una soffice cupola di Pane di Luce, dorato e cotto con il\n",
      "calore di una stella lontana, che rivela un cuore di Uova di Fenice appena si spezza, illuminando\n",
      "la tavola con la sua aura luminosa e rigenerante....\n",
      "\n",
      "🔹 Risultato 9: Una riduzione di Polvere di Crononite infonde la pietanza con un tocco rilassante, invitando i commensali a\n",
      "lasciarsi avvolgere nelle spirali temporali del sapore, mentre un giro di Lacrime di Unicorno drappeggia il\n",
      "tutto con una dolcezza scintillante d’illusione mistica. L'aggiunta di Amido di Stellarion conferisce alla zuppa\n",
      "una delicatezza vellutata, legante perfetto che eleva la profonda complessità di questo piatto....\n",
      "\n",
      "🔹 Risultato 10: quantici, Quantistica certificata fino al Livello 2, poteva prendere il 4 ma non ce l'ha fatta,\n",
      "permette di servire piatti che esistono simultaneamente in diverse forme: un sorbetto insieme\n",
      "freddo e rovente, un soufflé che si scioglie mentre mantiene la sua forma perfetta.\n",
      "Con un semplice gesto, la Chef Celestini regola il campo gravitazionale attorno ai suoi piatti\n",
      "(certificato via licenza Gravitazionale Livello I), facendo danzare gli aromi in eleganti spirali...\n",
      "\n"
     ]
    }
   ],
   "execution_count": 54
  }
 ],
 "metadata": {
  "kernelspec": {
   "display_name": "Python 3",
   "language": "python",
   "name": "python3"
  },
  "language_info": {
   "codemirror_mode": {
    "name": "ipython",
    "version": 2
   },
   "file_extension": ".py",
   "mimetype": "text/x-python",
   "name": "python",
   "nbconvert_exporter": "python",
   "pygments_lexer": "ipython2",
   "version": "2.7.6"
  }
 },
 "nbformat": 4,
 "nbformat_minor": 5
}
